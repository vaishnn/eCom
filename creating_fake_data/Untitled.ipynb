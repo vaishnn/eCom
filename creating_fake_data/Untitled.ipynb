{
 "cells": [
  {
   "cell_type": "code",
   "execution_count": 3,
   "id": "bf624661-3aab-4f34-ba46-9a1d7b7dd6d9",
   "metadata": {},
   "outputs": [],
   "source": [
    "import re"
   ]
  },
  {
   "cell_type": "code",
   "execution_count": 7,
   "id": "3fe92d00-80c7-469e-bb93-4bcbeb39bb8f",
   "metadata": {},
   "outputs": [
    {
     "name": "stdout",
     "output_type": "stream",
     "text": [
      "128 GB\n"
     ]
    }
   ],
   "source": [
    "title = \"Apple iPhone 16 (Ultramarine, 128 GB)\"\n",
    "match = re.match(r'(.*?)\\s\\(([^,]+),\\s([^)]+)\\)', title)\n",
    "model, _, storage = match.groups()\n",
    "model = model.strip() # Remove any leading/trailing whitespace\n",
    "print(storage)"
   ]
  },
  {
   "cell_type": "code",
   "execution_count": 73,
   "id": "ad9dc8f0-148d-41ba-bc6e-2fae53663226",
   "metadata": {},
   "outputs": [],
   "source": [
    "def clean_data(products: list):\n",
    "    processed_products = {}\n",
    "\n",
    "    for product in products:\n",
    "        title = product['title']\n",
    "        rating = product['rating']\n",
    "        price_str = product['price']\n",
    "        match = re.match(r'(.*?)\\s\\(([^,]+),\\s([^)]+)\\)', title)\n",
    "        if not match:\n",
    "            # Write Logging Logic here\n",
    "            continue\n",
    "\n",
    "        model, _, storage = match.groups()\n",
    "        model = model.strip()\n",
    "        storage = storage.strip()\n",
    "\n",
    "        try:\n",
    "            price = int(re.sub(r'[₹,]', '', price_str))\n",
    "        except Exception:\n",
    "            # Write Logging Logic here\n",
    "            continue\n",
    "        product_key = (model, storage)\n",
    "        # print(product_key)?\n",
    "        if product_key in processed_products:\n",
    "            if price < processed_products[product_key]['price']:\n",
    "                processed_products[product_key]['price'] = price\n",
    "        else:\n",
    "            processed_products[product_key] = {}\n",
    "            processed_products[product_key]['price'] = price\n",
    "    # print(processed_products)\n",
    "    processed_products = [{'title': element[0] + \" \" + element[1], 'price': processed_products[element]['price']} for element in processed_products]\n",
    "        \n",
    "    return list(processed_products)"
   ]
  },
  {
   "cell_type": "code",
   "execution_count": 74,
   "id": "f78776d4-0982-4ee2-8056-966ed05f13d1",
   "metadata": {},
   "outputs": [],
   "source": [
    "produc =  [\n",
    "    {'title': 'Apple iPhone 16 (Ultramarine, 128 GB)', 'rating': '4.6', 'price': '₹69,999'},\n",
    "    {'title': 'Apple iPhone 16 (Teal, 128 GB)', 'rating': '4.6', 'price': '₹69,999'},\n",
    "    {'title': 'Apple iPhone 16 (Black, 128 GB)', 'rating': '4.6', 'price': '₹69,999'},\n",
    "    {'title': 'Apple iPhone 16 (Pink, 128 GB)', 'rating': '4.6', 'price': '₹69,999'},\n",
    "    {'title': 'Apple iPhone 16 (White, 128 GB)', 'rating': '4.6', 'price': '₹69,999'},\n",
    "    {'title': 'Apple iPhone 16 (Black, 256 GB)', 'rating': '4.6', 'price': '₹79,999'},\n",
    "    {'title': 'Apple iPhone 16 (White, 256 GB)', 'rating': '4.6', 'price': '₹79,999'},\n",
    "    {'title': 'Apple iPhone 16 (Pink, 256 GB)', 'rating': '4.6', 'price': '₹79,999'},\n",
    "    {'title': 'Apple iPhone 16 (Teal, 256 GB)', 'rating': '4.6', 'price': '₹79,999'},\n",
    "    {'title': 'Apple iPhone 16 (Ultramarine, 256 GB)', 'rating': '4.6', 'price': '₹79,999'},\n",
    "    {'title': 'Apple iPhone 16 (White, 512 GB)', 'rating': '4.6', 'price': '₹99,999'},\n",
    "    {'title': 'Apple iPhone 16 (Ultramarine, 512 GB)', 'rating': '4.6', 'price': '₹99,999'},\n",
    "    {'title': 'Apple iPhone 16 (Teal, 512 GB)', 'rating': '4.6', 'price': '₹99,999'},\n",
    "    {'title': 'Apple iPhone 16e (Black, 128 GB)', 'rating': '4.6', 'price': '₹54,900'},\n",
    "    {'title': 'Apple iPhone 16e (White, 128 GB)', 'rating': '4.6', 'price': '₹54,900'},\n",
    "    {'title': 'Apple iPhone 16 Plus (Ultramarine, 128 GB)', 'rating': '4.6', 'price': '₹79,999'},\n",
    "    {'title': 'Apple iPhone 16 Plus (White, 128 GB)', 'rating': '4.6', 'price': '₹79,999'},\n",
    "    {'title': 'Apple iPhone 16 Plus (Black, 128 GB)', 'rating': '4.6', 'price': '₹79,999'},\n",
    "    {'title': 'Apple iPhone 16 Plus (Pink, 128 GB)', 'rating': '4.6', 'price': '₹79,999'},\n",
    "    {'title': 'Apple iPhone 16 Plus (Teal, 128 GB)', 'rating': '4.6', 'price': '₹79,999'},\n",
    "    {'title': 'Apple iPhone 16e (White, 256 GB)', 'rating': '4.6', 'price': '₹64,900'},\n",
    "    {'title': 'Apple iPhone 16e (Black, 256 GB)', 'rating': '4.6', 'price': '₹64,900'},\n",
    "    {'title': 'Apple iPhone 16 Plus (Pink, 256 GB)', 'rating': '4.6', 'price': '₹89,999'},\n",
    "    {'title': 'Apple iPhone 16 Plus (Black, 256 GB)', 'rating': '4.6', 'price': '₹89,999'}\n",
    "]\n"
   ]
  },
  {
   "cell_type": "code",
   "execution_count": 75,
   "id": "bc0708a7-340a-4910-b91b-4640512340fe",
   "metadata": {},
   "outputs": [
    {
     "name": "stdout",
     "output_type": "stream",
     "text": [
      "[{'title': 'Apple iPhone 16 128 GB', 'price': 69999}, {'title': 'Apple iPhone 16 256 GB', 'price': 79999}, {'title': 'Apple iPhone 16 512 GB', 'price': 99999}, {'title': 'Apple iPhone 16e 128 GB', 'price': 54900}, {'title': 'Apple iPhone 16 Plus 128 GB', 'price': 79999}, {'title': 'Apple iPhone 16e 256 GB', 'price': 64900}, {'title': 'Apple iPhone 16 Plus 256 GB', 'price': 89999}]\n"
     ]
    }
   ],
   "source": [
    "print(clean_data(produc))"
   ]
  },
  {
   "cell_type": "code",
   "execution_count": 34,
   "id": "6aa1e6c6-56aa-47a3-8c19-9ed1a78041c2",
   "metadata": {},
   "outputs": [
    {
     "name": "stdout",
     "output_type": "stream",
     "text": [
      "[\n",
      "  {\n",
      "    \"price\": 69999\n",
      "  },\n",
      "  {\n",
      "    \"price\": 79999\n",
      "  },\n",
      "  {\n",
      "    \"price\": 99999\n",
      "  },\n",
      "  {\n",
      "    \"price\": 54900\n",
      "  },\n",
      "  {\n",
      "    \"price\": 79999\n",
      "  },\n",
      "  {\n",
      "    \"price\": 64900\n",
      "  },\n",
      "  {\n",
      "    \"price\": 89999\n",
      "  }\n",
      "]\n"
     ]
    }
   ],
   "source": [
    "import re\n",
    "\n",
    "def clean_product_data(data):\n",
    "    \"\"\"\n",
    "    Cleans and processes a list of product data.\n",
    "\n",
    "    This function groups products by model and storage, finds the minimum\n",
    "    price for each group, and formats the title.\n",
    "\n",
    "    Args:\n",
    "        data: A list of dictionaries, where each dictionary represents a product\n",
    "              with 'title', 'rating', and 'price'.\n",
    "\n",
    "    Returns:\n",
    "        A list of dictionaries with cleaned titles and the minimum price\n",
    "        for each unique model and storage combination.\n",
    "    \"\"\"\n",
    "    processed_products = {}\n",
    "\n",
    "    for item in data:\n",
    "        title = item.get('title', '')\n",
    "        price_str = item.get('price', '₹0')\n",
    "\n",
    "        # Use regex to extract model, color, and storage from the title\n",
    "        # This pattern looks for the model name, something in parentheses (color),\n",
    "        # and the storage size.\n",
    "        match = re.match(r'(.*?)\\s\\(([^,]+),\\s([^)]+)\\)', title)\n",
    "        if not match:\n",
    "            continue  # Skip items with titles that don't match the expected format\n",
    "\n",
    "        model, _, storage = match.groups()\n",
    "        model = model.strip() # Remove any leading/trailing whitespace\n",
    "\n",
    "        # Create a unique key for each model and storage combination\n",
    "        product_key = (model, storage)\n",
    "\n",
    "        # Clean the price string by removing currency symbols and commas, then convert to an integer\n",
    "        try:\n",
    "            price = int(re.sub(r'[₹,]', '', price_str))\n",
    "        except ValueError:\n",
    "            price = 0 # Default to 0 if price is not a valid number\n",
    "\n",
    "        # If we've already seen this model and storage, check if the new price is lower\n",
    "        # If we haven't seen it, add it to our dictionary\n",
    "        if product_key in processed_products:\n",
    "            if price < processed_products[product_key]['price']:\n",
    "                processed_products[product_key]['price'] = price\n",
    "        else:\n",
    "            processed_products[product_key] = {}\n",
    "            processed_products[product_key]['price'] = price\n",
    "    \n",
    "    # Convert the dictionary of processed products back into a list\n",
    "    return list(processed_products.values())\n",
    "\n",
    "# Your provided data\n",
    "product_data = [\n",
    "    {'title': 'Apple iPhone 16 (Ultramarine, 128 GB)', 'rating': '4.6', 'price': '₹69,999'},\n",
    "    {'title': 'Apple iPhone 16 (Teal, 128 GB)', 'rating': '4.6', 'price': '₹69,999'},\n",
    "    {'title': 'Apple iPhone 16 (Black, 128 GB)', 'rating': '4.6', 'price': '₹69,999'},\n",
    "    {'title': 'Apple iPhone 16 (Pink, 128 GB)', 'rating': '4.6', 'price': '₹69,999'},\n",
    "    {'title': 'Apple iPhone 16 (White, 128 GB)', 'rating': '4.6', 'price': '₹69,999'},\n",
    "    {'title': 'Apple iPhone 16 (Black, 256 GB)', 'rating': '4.6', 'price': '₹79,999'},\n",
    "    {'title': 'Apple iPhone 16 (White, 256 GB)', 'rating': '4.6', 'price': '₹79,999'},\n",
    "    {'title': 'Apple iPhone 16 (Pink, 256 GB)', 'rating': '4.6', 'price': '₹79,999'},\n",
    "    {'title': 'Apple iPhone 16 (Teal, 256 GB)', 'rating': '4.6', 'price': '₹79,999'},\n",
    "    {'title': 'Apple iPhone 16 (Ultramarine, 256 GB)', 'rating': '4.6', 'price': '₹79,999'},\n",
    "    {'title': 'Apple iPhone 16 (White, 512 GB)', 'rating': '4.6', 'price': '₹99,999'},\n",
    "    {'title': 'Apple iPhone 16 (Ultramarine, 512 GB)', 'rating': '4.6', 'price': '₹99,999'},\n",
    "    {'title': 'Apple iPhone 16 (Teal, 512 GB)', 'rating': '4.6', 'price': '₹99,999'},\n",
    "    {'title': 'Apple iPhone 16e (Black, 128 GB)', 'rating': '4.6', 'price': '₹54,900'},\n",
    "    {'title': 'Apple iPhone 16e (White, 128 GB)', 'rating': '4.6', 'price': '₹54,900'},\n",
    "    {'title': 'Apple iPhone 16 Plus (Ultramarine, 128 GB)', 'rating': '4.6', 'price': '₹79,999'},\n",
    "    {'title': 'Apple iPhone 16 Plus (White, 128 GB)', 'rating': '4.6', 'price': '₹79,999'},\n",
    "    {'title': 'Apple iPhone 16 Plus (Black, 128 GB)', 'rating': '4.6', 'price': '₹79,999'},\n",
    "    {'title': 'Apple iPhone 16 Plus (Pink, 128 GB)', 'rating': '4.6', 'price': '₹79,999'},\n",
    "    {'title': 'Apple iPhone 16 Plus (Teal, 128 GB)', 'rating': '4.6', 'price': '₹79,999'},\n",
    "    {'title': 'Apple iPhone 16e (White, 256 GB)', 'rating': '4.6', 'price': '₹64,900'},\n",
    "    {'title': 'Apple iPhone 16e (Black, 256 GB)', 'rating': '4.6', 'price': '₹64,900'},\n",
    "    {'title': 'Apple iPhone 16 Plus (Pink, 256 GB)', 'rating': '4.6', 'price': '₹89,999'},\n",
    "    {'title': 'Apple iPhone 16 Plus (Black, 256 GB)', 'rating': '4.6', 'price': '₹89,999'}\n",
    "]\n",
    "\n",
    "# Get the cleaned data\n",
    "cleaned_data = clean_product_data(product_data)\n",
    "\n",
    "# Print the result in a readable format\n",
    "import json\n",
    "print(json.dumps(cleaned_data, indent=2))\n",
    "\n"
   ]
  },
  {
   "cell_type": "code",
   "execution_count": null,
   "id": "87146973-6984-48c9-91de-4d99925011cd",
   "metadata": {},
   "outputs": [],
   "source": []
  },
  {
   "cell_type": "code",
   "execution_count": null,
   "id": "cecb31c8-c14d-4098-b18f-0e3c421c09f8",
   "metadata": {},
   "outputs": [],
   "source": []
  }
 ],
 "metadata": {
  "kernelspec": {
   "display_name": "Python 3 (ipykernel)",
   "language": "python",
   "name": "python3"
  },
  "language_info": {
   "codemirror_mode": {
    "name": "ipython",
    "version": 3
   },
   "file_extension": ".py",
   "mimetype": "text/x-python",
   "name": "python",
   "nbconvert_exporter": "python",
   "pygments_lexer": "ipython3",
   "version": "3.12.10"
  }
 },
 "nbformat": 4,
 "nbformat_minor": 5
}
